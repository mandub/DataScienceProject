{
 "cells": [
  {
   "cell_type": "code",
   "execution_count": 30,
   "metadata": {},
   "outputs": [],
   "source": [
    "import scipy.io as sio\n",
    "import numpy as np\n",
    "# download the training data form \n",
    "\n",
    "# the array dzip contain the numbers with length 1707\n",
    "dzip = sio.loadmat('dzip.mat')['dzip'][0]\n",
    "#the array azip contain the 1707 images for the numbers in dzip array\n",
    "azip = sio.loadmat('azip.mat')['azip']"
   ]
  },
  {
   "cell_type": "code",
   "execution_count": 31,
   "metadata": {},
   "outputs": [
    {
     "name": "stdout",
     "output_type": "stream",
     "text": [
      "the count of copies of digit  0  is  319  copies .\n",
      "the count of copies of digit  1  is  252  copies .\n",
      "the count of copies of digit  2  is  202  copies .\n",
      "the count of copies of digit  3  is  131  copies .\n",
      "the count of copies of digit  4  is  122  copies .\n",
      "the count of copies of digit  5  is  88  copies .\n",
      "the count of copies of digit  6  is  151  copies .\n",
      "the count of copies of digit  7  is  166  copies .\n",
      "the count of copies of digit  8  is  144  copies .\n",
      "the count of copies of digit  9  is  132  copies .\n"
     ]
    }
   ],
   "source": [
    "# in the function, we will count how many times the digit apper in dzip\n",
    "def count_numbers_copies(dzip):\n",
    "    # digits_copies_counter hold the number of copies\n",
    "    digits_copies_counter =[]\n",
    "    # hold the indexes of each digit in dzip\n",
    "    indexes = []\n",
    "    for digit in range (10):\n",
    "        indexes.append ([])\n",
    "        counter = 0\n",
    "        for index, i in enumerate (dzip):\n",
    "            if i == digit:\n",
    "                counter +=1\n",
    "                indexes[digit].append(index)\n",
    "        digits_copies_counter.append(counter)\n",
    "    return digits_copies_counter,indexes\n",
    "digits_copies ,indexes =  count_numbers_copies(dzip)\n",
    "for digit,copies in enumerate(digits_copies):\n",
    "    print (\"the count of copies of digit \",digit , \" is \",copies ,\" copies .\" )\n",
    "#for index,i in enumerate (indexes):\n",
    "#    print (\"------------------------------------------\")\n",
    "#    for j in i :\n",
    "#        print (\"index = \", index ,\" j = \", j ,\" dzip value is \",dzip[j] )"
   ]
  },
  {
   "cell_type": "code",
   "execution_count": 32,
   "metadata": {},
   "outputs": [],
   "source": [
    "# create numpy zreos matrices for each digit in array of size 10 \n",
    "def numpy_zreos_matrices(digits_copies):\n",
    "    array_of_matrices = []\n",
    "    for copies in digits_copies:\n",
    "        # create matrix for each digit depend on the number of copies and 256 which is 16 * 16 pixels\n",
    "        M = np.zeros(shape=(256,copies))\n",
    "        array_of_matrices.append(M)\n",
    "    \n",
    "    return array_of_matrices\n",
    "digits_matrices = numpy_zreos_matrices(digits_copies)"
   ]
  },
  {
   "cell_type": "code",
   "execution_count": 33,
   "metadata": {},
   "outputs": [],
   "source": [
    "# now we fill our digits_matrices with inforamtion imges from azip\n",
    "def preparation_function(dzip,azip,digits_matrices):\n",
    "    for i in range (10):\n",
    "        counter =0\n",
    "        for index , item  in enumerate(dzip):\n",
    "            if item == i:\n",
    "                digits_matrices[i][:,counter] = azip[:,index]\n",
    "                counter += 1\n",
    "    return digits_matrices\n",
    "digits_matrices = preparation_function(dzip,azip,digits_matrices)"
   ]
  },
  {
   "cell_type": "code",
   "execution_count": 34,
   "metadata": {},
   "outputs": [],
   "source": [
    "# find the distance between the image and the matrix of the digit\n",
    "def find_the_distance(M,k,var,azip ):\n",
    "    U0 , S ,VT = np.linalg.svd(M)\n",
    "    # k = 3\n",
    "    # var = 53\n",
    "    smallU0 = U0[:,0:k]\n",
    "    d =azip[:,var]\n",
    "    I = np.eye(256)\n",
    "    v =np.matmul ((I - np.matmul (smallU0 , smallU0.T)) , d)\n",
    "    distance = np.linalg.norm(v)  \n",
    "    return distance "
   ]
  },
  {
   "cell_type": "code",
   "execution_count": 39,
   "metadata": {},
   "outputs": [
    {
     "name": "stdout",
     "output_type": "stream",
     "text": [
      "[6, 6]\n",
      "6\n"
     ]
    }
   ],
   "source": [
    "# here we import time for performance measurement\n",
    "import time\n",
    "\n",
    "# training the model and find best k\n",
    "def find_All_k(digits_matrices,azip,var,Ks):\n",
    "    distances=[]\n",
    "    Periods = []\n",
    "    for k in range (1,Ks):\n",
    "        distances.append([])\n",
    "        Periods.append([])\n",
    "        for M in digits_matrices:\n",
    "            start = time.time()\n",
    "            distance  = find_the_distance(M,k,var,azip)\n",
    "            end = time.time()\n",
    "            period = end - start\n",
    "            Periods[k-1].append(period)\n",
    "            distances[k-1].append(distance)\n",
    "    return distances,Periods\n",
    "\n",
    "def prediction(distances):\n",
    "    predict_List=[]\n",
    "    for row in distances:\n",
    "        x = min(v for v in row) # here we take the smallest distance \n",
    "        index = row.index(x)    # we will take the index of that smallest distance because it represents the digit\n",
    "        predict_List.append(index)\n",
    "        \n",
    "    return predict_List         # the index of predict_List will represent the k value\n",
    "\n",
    "Ks=3 # we will use 20 Ks\n",
    "var = 99 # which is index of digit 0\n",
    "distances ,Periods= find_All_k(digits_matrices,azip,var,Ks)\n",
    "predict_List  = prediction(distances)\n",
    "print (predict_List)\n",
    "print (dzip[var])"
   ]
  },
  {
   "cell_type": "code",
   "execution_count": 21,
   "metadata": {},
   "outputs": [
    {
     "name": "stdout",
     "output_type": "stream",
     "text": [
      "2\n",
      "1\n"
     ]
    }
   ],
   "source": [
    "l = [6,2,7,3,10]\n",
    "x = min(v for v in l)\n",
    "print (x)\n",
    "print (l.index(x))"
   ]
  },
  {
   "cell_type": "code",
   "execution_count": 17,
   "metadata": {},
   "outputs": [
    {
     "name": "stdout",
     "output_type": "stream",
     "text": [
      "319\n"
     ]
    }
   ],
   "source": [
    "counter =0\n",
    "for i in dzip:\n",
    "    if i == 0:\n",
    "        counter +=1\n",
    "print(counter)"
   ]
  },
  {
   "cell_type": "code",
   "execution_count": 18,
   "metadata": {},
   "outputs": [],
   "source": [
    "M0 = np.zeros(shape=(256,319))"
   ]
  },
  {
   "cell_type": "code",
   "execution_count": 35,
   "metadata": {},
   "outputs": [
    {
     "name": "stdout",
     "output_type": "stream",
     "text": [
      "[]\n"
     ]
    }
   ],
   "source": []
  },
  {
   "cell_type": "code",
   "execution_count": 20,
   "metadata": {},
   "outputs": [
    {
     "data": {
      "text/plain": [
       "array([-1.   , -1.   , -1.   , -0.567, -0.064,  0.979, -0.009, -0.167,\n",
       "       -0.999, -1.   , -1.   , -1.   , -1.   , -1.   , -1.   , -1.   ,\n",
       "       -1.   , -1.   , -1.   ,  0.405,  1.   ,  1.   ,  1.   ,  1.   ,\n",
       "        0.482, -0.701, -1.   , -1.   , -1.   , -1.   , -1.   , -1.   ,\n",
       "       -1.   , -1.   , -1.   , -0.242,  1.   ,  1.   ,  1.   ,  1.   ,\n",
       "        1.   ,  0.809,  0.351, -0.764, -1.   , -1.   , -1.   , -1.   ,\n",
       "       -1.   , -1.   , -1.   , -0.091,  1.   ,  1.   ,  1.   ,  1.   ,\n",
       "        0.848,  1.   ,  1.   ,  0.748, -0.536, -1.   , -1.   , -1.   ,\n",
       "       -1.   , -0.987, -0.71 ,  0.861,  1.   ,  1.   ,  1.   ,  1.   ,\n",
       "       -0.105,  0.963,  1.   ,  1.   ,  0.625, -0.662, -1.   , -1.   ,\n",
       "       -1.   , -0.476,  1.   ,  1.   ,  1.   ,  1.   ,  1.   ,  1.   ,\n",
       "       -0.282, -0.457,  1.   ,  1.   ,  1.   ,  0.481, -0.768, -1.   ,\n",
       "       -1.   , -0.249,  1.   ,  1.   ,  1.   ,  0.859, -0.046, -0.862,\n",
       "       -0.962, -0.991, -0.255,  1.   ,  1.   ,  1.   ,  0.046, -1.   ,\n",
       "       -0.999,  0.588,  1.   ,  1.   ,  1.   , -0.065, -1.   , -1.   ,\n",
       "       -1.   , -1.   , -0.942,  0.859,  1.   ,  1.   ,  0.784, -0.977,\n",
       "       -0.788,  0.794,  1.   ,  1.   ,  0.986, -0.469, -1.   , -1.   ,\n",
       "       -1.   , -1.   , -0.698,  0.843,  1.   ,  1.   ,  1.   , -0.432,\n",
       "       -0.461,  1.   ,  1.   ,  1.   ,  0.973, -0.685, -1.   , -1.   ,\n",
       "       -1.   , -0.969,  0.331,  1.   ,  1.   ,  1.   ,  0.964, -0.395,\n",
       "       -0.196,  1.   ,  1.   ,  1.   ,  0.916, -0.893, -1.   , -1.   ,\n",
       "       -1.   , -0.383,  1.   ,  1.   ,  1.   ,  1.   ,  0.313, -1.   ,\n",
       "       -0.882,  0.925,  1.   ,  1.   ,  0.702, -0.983, -0.675, -0.172,\n",
       "        0.236,  0.957,  1.   ,  1.   ,  1.   ,  0.817, -0.797, -1.   ,\n",
       "       -1.   ,  0.282,  1.   ,  1.   ,  1.   ,  0.74 ,  0.804,  1.   ,\n",
       "        1.   ,  1.   ,  1.   ,  1.   ,  1.   , -0.197, -1.   , -1.   ,\n",
       "       -1.   , -0.525,  0.817,  1.   ,  1.   ,  1.   ,  1.   ,  1.   ,\n",
       "        1.   ,  1.   ,  1.   ,  0.926,  0.343, -0.913, -1.   , -1.   ,\n",
       "       -1.   , -1.   , -0.377,  0.918,  1.   ,  1.   ,  1.   ,  1.   ,\n",
       "        1.   ,  0.889,  0.76 , -0.336, -1.   , -1.   , -1.   , -1.   ,\n",
       "       -1.   , -1.   , -1.   , -0.552,  0.733,  0.999,  0.999,  0.999,\n",
       "        0.619, -0.491, -1.   , -1.   , -1.   , -1.   , -1.   , -1.   ])"
      ]
     },
     "execution_count": 20,
     "metadata": {},
     "output_type": "execute_result"
    }
   ],
   "source": [
    "counter =0\n",
    "for index , item  in enumerate(dzip):\n",
    "    if item == 0:\n",
    "        M0[:,counter] = azip[:,index]\n",
    "        counter += 1\n",
    "        \n",
    "M0[:,318]    "
   ]
  },
  {
   "cell_type": "code",
   "execution_count": null,
   "metadata": {},
   "outputs": [],
   "source": []
  },
  {
   "cell_type": "code",
   "execution_count": 22,
   "metadata": {},
   "outputs": [
    {
     "name": "stdout",
     "output_type": "stream",
     "text": [
      "10.25727020263881\n",
      "0\n",
      "[ 3.98898653e-03  3.93747880e-03  4.29368147e-03  3.86999254e-03\n",
      "  8.56248566e-03  1.03812827e-02 -1.01912006e-02 -3.06888830e-02\n",
      " -2.70207522e-02 -5.48713791e-03 -7.56610184e-04  2.12160451e-04\n",
      "  4.42569358e-03  4.00671009e-03  3.98898653e-03  3.98898653e-03\n",
      "  3.98898653e-03  4.28826794e-03  4.72702873e-03  1.17171161e-02\n",
      "  1.77439207e-02  5.06190173e-03 -1.41184654e-02 -1.71698462e-02\n",
      " -1.94162868e-02 -1.51246680e-02 -4.74484596e-03 -5.33311387e-03\n",
      "  2.62552388e-03  4.16433167e-03  4.08897692e-03  3.98898653e-03\n",
      "  3.98898653e-03  2.48074131e-03  3.38434471e-03  1.74358853e-02\n",
      "  2.31434208e-02  1.79313699e-02  2.56327210e-02  5.16272155e-02\n",
      "  6.40864279e-02  5.58893757e-02  2.73803400e-02  1.28920106e-02\n",
      "  3.84598903e-03 -4.89202476e-04  3.67924663e-03  4.12501481e-03\n",
      "  3.98025127e-03 -7.45786487e-04  1.38388420e-02  3.76997102e-02\n",
      "  3.96825597e-02  4.32941341e-02  9.28082897e-02  1.35648474e-01\n",
      "  1.33383163e-01  1.16910208e-01  8.97427968e-02  5.36571341e-02\n",
      "  2.15324457e-02 -1.86728614e-04 -2.77424705e-03  4.24151803e-03\n",
      "  6.05469507e-04  5.31744694e-03  2.68427804e-02  5.34264563e-02\n",
      "  6.01614043e-02  9.19378441e-02  1.42334801e-01  1.48195915e-01\n",
      "  1.20377915e-01  1.12562609e-01  1.09120924e-01  9.65596110e-02\n",
      "  6.38854339e-02  2.55457025e-02 -7.69001676e-03  1.90259012e-03\n",
      "  2.14040876e-03  1.80448806e-02  4.97433452e-02  6.91076476e-02\n",
      "  8.49548651e-02  1.24385382e-01  1.33137576e-01  9.17968726e-02\n",
      "  5.33675025e-02  6.09662918e-02  8.67360482e-02  1.02788473e-01\n",
      "  1.02226384e-01  6.54650412e-02  2.93641701e-03 -3.56499885e-03\n",
      "  8.00796364e-03  3.16532530e-02  6.26631280e-02  8.13854534e-02\n",
      "  1.03459598e-01  1.16164213e-01  8.93446352e-02  4.20178958e-02\n",
      "  2.83136503e-02  2.59392539e-02  4.98014429e-02  9.21390733e-02\n",
      "  1.09597013e-01  9.06781660e-02  2.88665726e-02 -2.74064190e-03\n",
      "  1.42790038e-02  4.19534152e-02  7.53819976e-02  9.42497930e-02\n",
      "  9.96013844e-02  8.79780443e-02  4.81524402e-02  2.10458949e-02\n",
      "  9.30132992e-03  1.14430257e-02  3.11548543e-02  7.43983318e-02\n",
      "  1.00416699e-01  1.02171036e-01  4.55222926e-02  6.22589565e-03\n",
      "  1.99801114e-02  4.94644613e-02  7.98466639e-02  9.99565512e-02\n",
      "  9.40334066e-02  6.17162647e-02  3.05963159e-02  1.57377843e-02\n",
      "  5.16967534e-03  9.18249086e-03  2.98243509e-02  7.15089599e-02\n",
      "  1.00706622e-01  1.00654637e-01  4.74651739e-02  1.28586272e-02\n",
      "  1.64073451e-02  4.93152145e-02  8.53365373e-02  1.04463380e-01\n",
      "  8.53421712e-02  4.28933945e-02  2.38692101e-02  1.05891996e-02\n",
      "  6.18663593e-03  2.01454083e-02  4.23504527e-02  8.71793358e-02\n",
      "  1.05875133e-01  9.19328163e-02  3.87730205e-02  1.48579069e-02\n",
      "  1.30922273e-02  4.11849712e-02  8.38888646e-02  1.07127742e-01\n",
      "  8.42562695e-02  3.96264659e-02  2.42950762e-02  1.31601333e-02\n",
      "  1.99818818e-02  4.39461026e-02  8.16086399e-02  1.12600750e-01\n",
      "  1.07529048e-01  7.87031845e-02  2.98307943e-02  8.32173924e-03\n",
      "  7.10735003e-03  2.15885080e-02  6.06195589e-02  1.06743442e-01\n",
      "  1.04256599e-01  7.42753746e-02  6.17587316e-02  5.51316284e-02\n",
      "  7.21025489e-02  1.10033609e-01  1.33417435e-01  1.17609116e-01\n",
      "  9.08467595e-02  5.76596161e-02  1.21706130e-02  5.60742578e-04\n",
      "  7.60466153e-03  4.85478004e-03  2.72091129e-02  7.51196847e-02\n",
      "  1.09829689e-01  1.35245286e-01  1.47417419e-01  1.51354245e-01\n",
      "  1.65092325e-01  1.65939946e-01  1.24726696e-01  7.96952096e-02\n",
      "  5.52617844e-02  2.57184200e-02  4.11611477e-03  1.46148320e-03\n",
      "  5.65476832e-03  9.30819223e-03  1.93488185e-03  1.69966996e-02\n",
      "  4.59774373e-02  9.68509273e-02  1.56735047e-01  1.69829433e-01\n",
      "  1.42225669e-01  8.34568520e-02  3.18833323e-02  1.63855864e-02\n",
      "  1.74942015e-02  6.78051428e-03 -2.60436199e-03  3.65010596e-03\n",
      "  4.03238638e-03  6.90494205e-03  4.06257150e-03 -6.17367913e-03\n",
      " -1.36321525e-02 -1.71248644e-02  1.79313154e-03  6.99312361e-03\n",
      " -1.00791180e-02 -2.96081712e-02 -1.45196178e-02  7.27610868e-03\n",
      "  4.74318846e-03  1.43168453e-03  3.09110048e-03  3.98898653e-03\n",
      "  3.98898653e-03  3.98957729e-03  4.28736604e-03  1.80590063e-03\n",
      " -1.48547527e-03 -2.02231563e-02 -3.93280163e-02 -3.88003212e-02\n",
      " -2.61373273e-02 -1.43678598e-04  1.58306785e-02  1.23093233e-02\n",
      "  5.74163667e-03  3.95189233e-03  3.98898653e-03  3.98898653e-03]\n"
     ]
    }
   ],
   "source": [
    "U0 , S ,VT = np.linalg.svd(M0)\n",
    "k = 3\n",
    "var = 53\n",
    "smallU0 = U0[:,0:k]\n",
    "d =azip[:,var]\n",
    "I = np.eye(256)\n",
    "v =np.matmul ((I - np.matmul (smallU0 , smallU0.T)) , d)\n",
    "resut= np.linalg.norm(v)  \n",
    "print (resut)\n",
    "print (dzip[var])\n",
    "print(U0[:,2])"
   ]
  },
  {
   "cell_type": "code",
   "execution_count": 95,
   "metadata": {},
   "outputs": [
    {
     "name": "stdout",
     "output_type": "stream",
     "text": [
      "[[0.00918939 0.00917096 0.00910001 0.00874913 0.00779948]\n",
      " [0.00917096 0.0091526  0.0090819  0.00873128 0.00778221]\n",
      " [0.00910001 0.0090819  0.00901277 0.00866178 0.00771492]\n",
      " [0.00874913 0.00873128 0.00866178 0.00833444 0.00744676]\n",
      " [0.00779948 0.00778221 0.00771492 0.00744676 0.00674142]]\n"
     ]
    }
   ],
   "source": [
    "A = np.matmul (smallU0 , smallU0.T)\n",
    "A.shape\n",
    "print(A[0:5,0:5])"
   ]
  },
  {
   "cell_type": "code",
   "execution_count": 96,
   "metadata": {},
   "outputs": [
    {
     "name": "stdout",
     "output_type": "stream",
     "text": [
      "[-1.    -1.    -1.    -1.    -1.    -0.454  0.879 -0.745 -1.    -1.   ]\n"
     ]
    }
   ],
   "source": [
    "print(d[0:10])"
   ]
  },
  {
   "cell_type": "code",
   "execution_count": 99,
   "metadata": {},
   "outputs": [
    {
     "name": "stdout",
     "output_type": "stream",
     "text": [
      "[-0.0633313  -0.06471476 -0.06562173 -0.11806505 -0.22755067  0.10167933\n",
      "  0.95495151 -0.97712088 -1.18657696 -0.77916507]\n"
     ]
    }
   ],
   "source": [
    "v = np.matmul ((I - np.matmul (smallU0 , smallU0.T)) , d)\n",
    "print(v[0:10])"
   ]
  },
  {
   "cell_type": "code",
   "execution_count": 101,
   "metadata": {},
   "outputs": [
    {
     "name": "stdout",
     "output_type": "stream",
     "text": [
      "[-0.0633313  -0.06471476 -0.06562173 -0.11806505 -0.22755067  0.10167933\n",
      "  0.95495151 -0.97712088 -1.18657696 -0.77916507]\n"
     ]
    }
   ],
   "source": [
    "v.shape\n",
    "print(v[0:10])"
   ]
  },
  {
   "cell_type": "code",
   "execution_count": 54,
   "metadata": {},
   "outputs": [
    {
     "data": {
      "text/plain": [
       "4"
      ]
     },
     "execution_count": 54,
     "metadata": {},
     "output_type": "execute_result"
    }
   ],
   "source": [
    "\n"
   ]
  },
  {
   "cell_type": "code",
   "execution_count": 106,
   "metadata": {},
   "outputs": [
    {
     "name": "stdout",
     "output_type": "stream",
     "text": [
      "8\n",
      "11\n",
      "18\n",
      "49\n",
      "53\n",
      "58\n",
      "63\n",
      "65\n",
      "68\n",
      "72\n",
      "80\n",
      "95\n",
      "97\n",
      "101\n",
      "102\n",
      "104\n",
      "106\n",
      "108\n",
      "111\n",
      "116\n",
      "122\n",
      "130\n",
      "132\n",
      "134\n",
      "139\n",
      "157\n",
      "169\n",
      "176\n",
      "180\n",
      "185\n",
      "189\n",
      "192\n",
      "207\n",
      "218\n",
      "222\n",
      "225\n",
      "229\n",
      "235\n",
      "248\n",
      "254\n",
      "266\n",
      "270\n",
      "271\n",
      "272\n",
      "278\n",
      "279\n",
      "280\n",
      "283\n",
      "288\n",
      "294\n",
      "295\n",
      "304\n",
      "317\n",
      "321\n",
      "328\n",
      "332\n",
      "333\n",
      "334\n",
      "335\n",
      "355\n",
      "363\n",
      "365\n",
      "370\n",
      "372\n",
      "375\n",
      "388\n",
      "390\n",
      "400\n",
      "402\n",
      "405\n",
      "409\n",
      "411\n",
      "414\n",
      "419\n",
      "433\n",
      "435\n",
      "438\n",
      "443\n",
      "449\n",
      "451\n",
      "453\n",
      "458\n",
      "461\n",
      "471\n",
      "479\n",
      "481\n",
      "486\n",
      "489\n",
      "493\n",
      "498\n",
      "500\n",
      "513\n",
      "515\n",
      "520\n",
      "521\n",
      "528\n",
      "538\n",
      "541\n",
      "543\n",
      "548\n",
      "579\n",
      "580\n",
      "590\n",
      "595\n",
      "600\n",
      "637\n",
      "641\n",
      "649\n",
      "651\n",
      "654\n",
      "655\n",
      "657\n",
      "658\n",
      "662\n",
      "663\n",
      "667\n",
      "670\n",
      "672\n",
      "677\n",
      "682\n",
      "684\n",
      "687\n",
      "688\n",
      "690\n",
      "693\n",
      "708\n",
      "711\n",
      "716\n",
      "724\n",
      "731\n",
      "732\n",
      "733\n",
      "736\n",
      "737\n",
      "741\n",
      "742\n",
      "748\n",
      "754\n",
      "758\n",
      "759\n",
      "764\n",
      "767\n",
      "769\n",
      "774\n",
      "778\n",
      "779\n",
      "782\n",
      "784\n",
      "789\n",
      "793\n",
      "794\n",
      "799\n",
      "804\n",
      "807\n",
      "809\n",
      "813\n",
      "816\n",
      "820\n",
      "823\n",
      "824\n",
      "827\n",
      "829\n",
      "830\n",
      "833\n",
      "834\n",
      "835\n",
      "837\n",
      "839\n",
      "840\n",
      "845\n",
      "848\n",
      "849\n",
      "851\n",
      "853\n",
      "856\n",
      "857\n",
      "864\n",
      "865\n",
      "867\n",
      "869\n",
      "870\n",
      "874\n",
      "875\n",
      "878\n",
      "879\n",
      "882\n",
      "883\n",
      "885\n",
      "887\n",
      "888\n",
      "892\n",
      "893\n",
      "897\n",
      "898\n",
      "902\n",
      "915\n",
      "916\n",
      "919\n",
      "921\n",
      "923\n",
      "928\n",
      "930\n",
      "938\n",
      "940\n",
      "944\n",
      "955\n",
      "965\n",
      "967\n",
      "969\n",
      "979\n",
      "992\n",
      "993\n",
      "998\n",
      "1002\n",
      "1003\n",
      "1006\n",
      "1010\n",
      "1016\n",
      "1028\n",
      "1031\n",
      "1034\n",
      "1037\n",
      "1038\n",
      "1043\n",
      "1064\n",
      "1065\n",
      "1070\n",
      "1079\n",
      "1099\n",
      "1124\n",
      "1125\n",
      "1126\n",
      "1149\n",
      "1150\n",
      "1153\n",
      "1154\n",
      "1158\n",
      "1159\n",
      "1163\n",
      "1165\n",
      "1168\n",
      "1169\n",
      "1172\n",
      "1177\n",
      "1179\n",
      "1183\n",
      "1188\n",
      "1204\n",
      "1212\n",
      "1218\n",
      "1223\n",
      "1240\n",
      "1245\n",
      "1250\n",
      "1260\n",
      "1269\n",
      "1279\n",
      "1287\n",
      "1292\n",
      "1301\n",
      "1306\n",
      "1311\n",
      "1315\n",
      "1320\n",
      "1322\n",
      "1326\n",
      "1331\n",
      "1343\n",
      "1355\n",
      "1360\n",
      "1378\n",
      "1388\n",
      "1398\n",
      "1402\n",
      "1408\n",
      "1422\n",
      "1438\n",
      "1442\n",
      "1446\n",
      "1450\n",
      "1452\n",
      "1467\n",
      "1472\n",
      "1474\n",
      "1492\n",
      "1497\n",
      "1501\n",
      "1511\n",
      "1523\n",
      "1536\n",
      "1542\n",
      "1545\n",
      "1546\n",
      "1564\n",
      "1568\n",
      "1583\n",
      "1587\n",
      "1597\n",
      "1606\n",
      "1611\n",
      "1618\n",
      "1624\n",
      "1625\n",
      "1630\n",
      "1635\n",
      "1645\n",
      "1649\n",
      "1653\n",
      "1654\n",
      "1658\n",
      "1668\n",
      "1674\n",
      "1677\n",
      "1684\n",
      "1685\n",
      "1691\n",
      "1692\n",
      "1694\n",
      "1698\n"
     ]
    }
   ],
   "source": [
    "for index , item  in enumerate(dzip):\n",
    "    if item == 0:\n",
    "        print (index)"
   ]
  },
  {
   "cell_type": "code",
   "execution_count": 49,
   "metadata": {},
   "outputs": [
    {
     "data": {
      "text/plain": [
       "0"
      ]
     },
     "execution_count": 49,
     "metadata": {},
     "output_type": "execute_result"
    }
   ],
   "source": [
    "dzip[8]"
   ]
  },
  {
   "cell_type": "code",
   "execution_count": null,
   "metadata": {},
   "outputs": [],
   "source": [
    "d = "
   ]
  }
 ],
 "metadata": {
  "kernelspec": {
   "display_name": "Python 3",
   "language": "python",
   "name": "python3"
  },
  "language_info": {
   "codemirror_mode": {
    "name": "ipython",
    "version": 3
   },
   "file_extension": ".py",
   "mimetype": "text/x-python",
   "name": "python",
   "nbconvert_exporter": "python",
   "pygments_lexer": "ipython3",
   "version": "3.6.5"
  }
 },
 "nbformat": 4,
 "nbformat_minor": 2
}
