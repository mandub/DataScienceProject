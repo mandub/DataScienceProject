{
 "cells": [
  {
   "cell_type": "code",
   "execution_count": 2,
   "metadata": {},
   "outputs": [],
   "source": [
    "import scipy.io as sio #Load MATLAB file\n",
    "import numpy as np\n",
    "# download the training data form \n",
    "\n",
    "# the array dzip contain the numbers with length 1707\n",
    "dzip = sio.loadmat('dzip.mat')['dzip'][0]\n",
    "#the array azip contain the 1707 images for the numbers in dzip array\n",
    "azip = sio.loadmat('azip.mat')['azip']"
   ]
  },
  {
   "cell_type": "code",
   "execution_count": 3,
   "metadata": {},
   "outputs": [
    {
     "name": "stdout",
     "output_type": "stream",
     "text": [
      "the count of copies of digit  0  is  319  copies .\n",
      "the count of copies of digit  1  is  252  copies .\n",
      "the count of copies of digit  2  is  202  copies .\n",
      "the count of copies of digit  3  is  131  copies .\n",
      "the count of copies of digit  4  is  122  copies .\n",
      "the count of copies of digit  5  is  88  copies .\n",
      "the count of copies of digit  6  is  151  copies .\n",
      "the count of copies of digit  7  is  166  copies .\n",
      "the count of copies of digit  8  is  144  copies .\n",
      "the count of copies of digit  9  is  132  copies .\n"
     ]
    }
   ],
   "source": [
    "# in the function, we will count how many times the digit apper in dzip\n",
    "def count_numbers_copies(dzip):\n",
    "    # digits_copies_counter hold the number of copies\n",
    "    digits_copies_counter =[]\n",
    "    # hold the indexes of each digit in dzip\n",
    "    indexes = []\n",
    "    for digit in range (10):\n",
    "        indexes.append ([])\n",
    "        counter = 0\n",
    "        for index, i in enumerate (dzip):\n",
    "            if i == digit:\n",
    "                counter +=1\n",
    "                indexes[digit].append(index)\n",
    "        digits_copies_counter.append(counter)\n",
    "    return digits_copies_counter,indexes\n",
    "digits_copies ,indexes =  count_numbers_copies(dzip)\n",
    "for digit,copies in enumerate(digits_copies):\n",
    "    print (\"the count of copies of digit \",digit , \" is \",copies ,\" copies .\" )\n"
   ]
  },
  {
   "cell_type": "code",
   "execution_count": 4,
   "metadata": {},
   "outputs": [],
   "source": [
    "# create numpy zreos matrices for each digit in array of size 10 \n",
    "def numpy_zreos_matrices(digits_copies):\n",
    "    array_of_matrices = []\n",
    "    for copies in digits_copies:\n",
    "        # create matrix for each digit depend on the number of copies and 256 which is 16 * 16 pixels\n",
    "        M = np.zeros(shape=(256,copies))\n",
    "        array_of_matrices.append(M)\n",
    "    \n",
    "    return array_of_matrices\n",
    "digits_matrices = numpy_zreos_matrices(digits_copies)\n"
   ]
  },
  {
   "cell_type": "code",
   "execution_count": 5,
   "metadata": {},
   "outputs": [],
   "source": [
    "# now we fill our digits_matrices with inforamtion imges from azip\n",
    "def preparation_function(dzip,azip,digits_matrices):\n",
    "    for i in range (10):\n",
    "        counter =0\n",
    "        for index , item  in enumerate(dzip):\n",
    "            if item == i:\n",
    "                digits_matrices[i][:,counter] = azip[:,index]\n",
    "                counter += 1\n",
    "    return digits_matrices\n",
    "digits_matrices = preparation_function(dzip,azip,digits_matrices)"
   ]
  },
  {
   "cell_type": "code",
   "execution_count": 6,
   "metadata": {},
   "outputs": [],
   "source": [
    "# find the distance between the image and the matrix of the digit\n",
    "def find_the_distance(M,k,var,azip ):\n",
    "    U0 , S ,VT = np.linalg.svd(M)\n",
    "    smallU0 = U0[:,0:k]\n",
    "    \n",
    "    d =azip[:,var]\n",
    "    I = np.eye(256)\n",
    "    v =np.matmul ((I - np.matmul (smallU0 , smallU0.T)) , d)\n",
    "    distance = np.linalg.norm(v)  \n",
    "    return distance "
   ]
  },
  {
   "cell_type": "code",
   "execution_count": 7,
   "metadata": {},
   "outputs": [
    {
     "name": "stdout",
     "output_type": "stream",
     "text": [
      "k = 1   predict= 0    False   Period = 0.1271824836730957\n",
      "k = 2   predict= 0    False   Period = 0.08931517601013184\n",
      "k = 3   predict= 0    False   Period = 0.08817315101623535\n",
      "k = 4   predict= 0    False   Period = 0.08766674995422363\n",
      "k = 5   predict= 0    False   Period = 0.0878744125366211\n",
      "k = 6   predict= 2    True   Period = 0.08762431144714355\n",
      "k = 7   predict= 2    True   Period = 0.08747434616088867\n",
      "k = 8   predict= 2    True   Period = 0.08789634704589844\n",
      "k = 9   predict= 2    True   Period = 0.08763265609741211\n",
      "k = 10   predict= 2    True   Period = 0.08756375312805176\n",
      "k = 11   predict= 2    True   Period = 0.08813643455505371\n",
      "k = 12   predict= 2    True   Period = 0.09411501884460449\n",
      "k = 13   predict= 2    True   Period = 0.08840346336364746\n",
      "k = 14   predict= 2    True   Period = 0.0970914363861084\n",
      "k = 15   predict= 2    True   Period = 0.08852624893188477\n",
      "k = 16   predict= 2    True   Period = 0.10547947883605957\n",
      "k = 17   predict= 2    True   Period = 0.14229893684387207\n",
      "k = 18   predict= 2    True   Period = 0.08789706230163574\n",
      "k = 19   predict= 2    True   Period = 0.08795309066772461\n",
      "k = 20   predict= 2    True   Period = 0.0879964828491211\n",
      "the corect value is =  2\n"
     ]
    }
   ],
   "source": [
    "# here we import time for performance measurement\n",
    "import time\n",
    "\n",
    "# training the model and find best k\n",
    "def find_All_k(digits_matrices,azip,var,Ks):\n",
    "    distances=[]\n",
    "    Periods = []\n",
    "    Ks = Ks +1 # because we will have less Ks by one since we start k for loop by 1 \n",
    "    for k in range (1,Ks):\n",
    "        distances.append([])# this list for number form 0 to 9\n",
    "        Periods.append([])\n",
    "        for M in digits_matrices:\n",
    "            start = time.time()\n",
    "            distance  = find_the_distance(M,k,var,azip)\n",
    "            end = time.time()\n",
    "            period = end - start\n",
    "            Periods[k-1].append(period)\n",
    "            distances[k-1].append(distance)\n",
    "    return distances,Periods\n",
    "\n",
    "def prediction(distances):\n",
    "    predict_List=[]\n",
    "    for row in distances:\n",
    "        x = min(v for v in row) # here we take the smallest distance \n",
    "        index = row.index(x)    # we will take the index of that smallest distance\n",
    "                                # because it represents the digit\n",
    "        predict_List.append(index)\n",
    "        \n",
    "    return predict_List         # the index of predict_List will represent the k value\n",
    "\n",
    "Ks=20 # we will use 20 Ks\n",
    "var = 345# which is index of digit 2  345\n",
    "    \n",
    "distances ,Periods= find_All_k(digits_matrices,azip,var,Ks)  \n",
    "predict_List  = prediction(distances)\n",
    "Periods_List  = []\n",
    "# here sum all Periods for a k  \n",
    "for i in Periods:\n",
    "    Periods_List.append(sum(i))\n",
    "    \n",
    "for i in range (Ks):\n",
    "    print (\"k =\",i+1,\"  predict=\",predict_List[i],\"  \",\n",
    "           predict_List[i] == dzip[var] ,\"  Period =\",Periods_List[i])\n",
    "print (\"the corect value is = \",dzip[var])\n",
    "\n"
   ]
  },
  {
   "cell_type": "code",
   "execution_count": 8,
   "metadata": {},
   "outputs": [
    {
     "data": {
      "image/png": "[encoded data removed]",
      "text/plain": [
       "<Figure size 432x288 with 1 Axes>"
      ]
     },
     "metadata": {
      "needs_background": "light"
     },
     "output_type": "display_data"
    }
   ],
   "source": [
    "import matplotlib.pyplot as plt\n",
    "%matplotlib inline\n",
    "plt.plot(Periods_List)\n",
    "plt.ylabel('Time Periods')\n",
    "plt.xlabel('Ks number')\n",
    "plt.show()"
   ]
  },
  {
   "cell_type": "code",
   "execution_count": 9,
   "metadata": {},
   "outputs": [
    {
     "name": "stdout",
     "output_type": "stream",
     "text": [
      "0\n",
      "1\n",
      "2\n",
      "3\n",
      "4\n",
      "5\n",
      "6\n",
      "7\n",
      "8\n",
      "9\n",
      "10\n",
      "[11, 0, 0, 0, 0, 0, 0, 0, 0, 0, 0, 0, 0, 0, 0, 0, 0, 0, 0, 0]\n"
     ]
    }
   ],
   "source": [
    "Ks=20 # we will use 20 Ks\n",
    "# take 1:30 hour \n",
    "Best_k_list=[0]* Ks # List of zeros to find the best k\n",
    "for var in range(len (dzip)):# which is 1707 all the data set samples\n",
    "    print (var)\n",
    "    distances ,Periods= find_All_k(digits_matrices,azip,var,Ks)\n",
    "    # I need to add all Periods togther in the same k to give some maening  \n",
    "    predict_List  = prediction(distances)\n",
    "    Periods_List  = []\n",
    "    for i in Periods:\n",
    "        Periods_List.append(sum(i))\n",
    "    for i in range (Ks):\n",
    "        if predict_List[i] == dzip[var]:\n",
    "            # if true increase the best k for these loop by one\n",
    "            Best_k_list[i] +=1\n",
    "            # here in this loop try to find smallest correct k then break\n",
    "            break\n",
    "    if var == 10 :\n",
    "        break\n",
    "print (Best_k_list)"
   ]
  },
  {
   "cell_type": "code",
   "execution_count": 102,
   "metadata": {},
   "outputs": [],
   "source": [
    "\n",
    "f = open (\"Best_k_list.txt\",\"w+\")\n",
    "f.write(str(Best_k_list))\n",
    "f.close()"
   ]
  },
  {
   "cell_type": "code",
   "execution_count": 103,
   "metadata": {},
   "outputs": [
    {
     "name": "stdout",
     "output_type": "stream",
     "text": [
      "[1464, 131, 45, 23, 9, 10, 7, 2, 1, 2, 1, 3, 1, 1, 0, 2, 2, 0, 1, 0]\n"
     ]
    }
   ],
   "source": [
    "f = open (\"Best_k_list.txt\",\"r\")\n",
    "Best_k_listr = f.read()\n",
    "print (Best_k_listr)\n",
    "f.close()"
   ]
  },
  {
   "cell_type": "code",
   "execution_count": 104,
   "metadata": {},
   "outputs": [
    {
     "name": "stdout",
     "output_type": "stream",
     "text": [
      "so the best k for this data set is 6 \n"
     ]
    }
   ],
   "source": [
    "print (\"so the best k for this data set is 6 \")"
   ]
  },
  {
   "cell_type": "code",
   "execution_count": null,
   "metadata": {},
   "outputs": [],
   "source": []
  },
  {
   "cell_type": "code",
   "execution_count": null,
   "metadata": {},
   "outputs": [],
   "source": []
  },
  {
   "cell_type": "code",
   "execution_count": null,
   "metadata": {},
   "outputs": [],
   "source": []
  },
  {
   "cell_type": "code",
   "execution_count": null,
   "metadata": {},
   "outputs": [],
   "source": []
  },
  {
   "cell_type": "code",
   "execution_count": null,
   "metadata": {},
   "outputs": [],
   "source": [
    "  "
   ]
  },
  {
   "cell_type": "code",
   "execution_count": null,
   "metadata": {},
   "outputs": [],
   "source": []
  },
  {
   "cell_type": "code",
   "execution_count": null,
   "metadata": {},
   "outputs": [],
   "source": []
  },
  {
   "cell_type": "code",
   "execution_count": null,
   "metadata": {},
   "outputs": [],
   "source": []
  },
  {
   "cell_type": "code",
   "execution_count": null,
   "metadata": {},
   "outputs": [],
   "source": []
  },
  {
   "cell_type": "code",
   "execution_count": null,
   "metadata": {},
   "outputs": [],
   "source": []
  },
  {
   "cell_type": "code",
   "execution_count": null,
   "metadata": {},
   "outputs": [],
   "source": []
  },
  {
   "cell_type": "code",
   "execution_count": null,
   "metadata": {},
   "outputs": [],
   "source": [
    "\n"
   ]
  },
  {
   "cell_type": "code",
   "execution_count": null,
   "metadata": {},
   "outputs": [],
   "source": [
    "\n"
   ]
  },
  {
   "cell_type": "code",
   "execution_count": null,
   "metadata": {},
   "outputs": [],
   "source": []
  },
  {
   "cell_type": "code",
   "execution_count": null,
   "metadata": {},
   "outputs": [],
   "source": []
  },
  {
   "cell_type": "code",
   "execution_count": null,
   "metadata": {},
   "outputs": [],
   "source": []
  }
 ],
 "metadata": {
  "kernelspec": {
   "display_name": "Python 3",
   "language": "python",
   "name": "python3"
  },
  "language_info": {
   "codemirror_mode": {
    "name": "ipython",
    "version": 3
   },
   "file_extension": ".py",
   "mimetype": "text/x-python",
   "name": "python",
   "nbconvert_exporter": "python",
   "pygments_lexer": "ipython3",
   "version": "3.6.5"
  }
 },
 "nbformat": 4,
 "nbformat_minor": 2
}
