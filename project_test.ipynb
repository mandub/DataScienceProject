{
 "cells": [
  {
   "cell_type": "code",
   "execution_count": 10,
   "metadata": {},
   "outputs": [],
   "source": [
    "import scipy.io as sio # Load MATLAB file\n",
    "import numpy as np\n",
    "# download the training data form \n",
    "\n",
    "# the array dzip contain the numbers with length 1707\n",
    "dzip = sio.loadmat('dzip.mat')['dzip'][0]\n",
    "#the array azip contain the 1707 images for the numbers in dzip array\n",
    "azip = sio.loadmat('azip.mat')['azip']\n",
    "\n",
    "# in the function, we will count how many times the digit apper in dzip\n",
    "def count_numbers_copies(dzip):\n",
    "    # digits_copies_counter hold the number of copies\n",
    "    digits_copies_counter =[]\n",
    "    # hold the indexes of each digit in dzip\n",
    "    indexes = []\n",
    "    for digit in range (10):\n",
    "        indexes.append ([])\n",
    "        counter = 0\n",
    "        for index, i in enumerate (dzip):\n",
    "            if i == digit:\n",
    "                counter +=1\n",
    "                indexes[digit].append(index)\n",
    "        digits_copies_counter.append(counter)\n",
    "    return digits_copies_counter,indexes\n",
    "digits_copies ,indexes =  count_numbers_copies(dzip)\n",
    "\n",
    "\n",
    "# create numpy zreos matrices for each digit in array of size 10 \n",
    "def numpy_zreos_matrices(digits_copies):\n",
    "    array_of_matrices = []\n",
    "    for copies in digits_copies:\n",
    "        # create matrix for each digit depend on the number of copies and 256 which is 16 * 16 pixels\n",
    "        M = np.zeros(shape=(256,copies))\n",
    "        array_of_matrices.append(M)\n",
    "    \n",
    "    return array_of_matrices\n",
    "digits_matrices = numpy_zreos_matrices(digits_copies)\n",
    "\n",
    "\n",
    "# now we fill our digits_matrices with inforamtion imges from azip\n",
    "def preparation_function(dzip,azip,digits_matrices):\n",
    "    for i in range (10):\n",
    "        counter =0\n",
    "        for index , item  in enumerate(dzip):\n",
    "            if item == i:\n",
    "                digits_matrices[i][:,counter] = azip[:,index]\n",
    "                counter += 1\n",
    "    return digits_matrices\n",
    "digits_matrices = preparation_function(dzip,azip,digits_matrices)\n",
    "\n",
    "# find the distance between the image and the matrix of the digit\n",
    "def find_the_distance(SVD,k,var,azip ):\n",
    "    U0 , S ,VT = SVD\n",
    "    smallU0 = U0[:,0:k]\n",
    "    d =azip[:,var]\n",
    "    I = np.eye(256)\n",
    "    v =np.matmul ((I - np.matmul (smallU0 , smallU0.T)) , d)\n",
    "    distance = np.linalg.norm(v)  \n",
    "    return distance \n",
    "def compute_SVD(M): # here compute SVD one time and save results in SVD_List\n",
    "    U0 , S ,VT = np.linalg.svd(M)\n",
    "    SVD = [U0 , S ,VT]\n",
    "    return SVD\n",
    "SVD_List=[]\n",
    "for M in digits_matrices:\n",
    "    SVD_List.append (compute_SVD(M))"
   ]
  },
  {
   "cell_type": "code",
   "execution_count": 11,
   "metadata": {},
   "outputs": [],
   "source": [
    "# loading the test data \n",
    "# the array dtest contain the numbers with length 2007 for test purpuse \n",
    "dtest = sio.loadmat('dtest.mat')['dtest'][0] \n",
    "#the array testzip contain the 1707 images for the numbers in dzip array\n",
    "testzip = sio.loadmat('testzip.mat')['testzip']"
   ]
  },
  {
   "cell_type": "code",
   "execution_count": 12,
   "metadata": {},
   "outputs": [
    {
     "name": "stdout",
     "output_type": "stream",
     "text": [
      "[1464, 131, 45, 23, 9, 10, 7, 2, 1, 2, 1, 3, 1, 1, 0, 2, 2, 0, 1, 0]\n"
     ]
    }
   ],
   "source": [
    "f = open (\"Best_k_list.txt\",\"r\")\n",
    "Best_k_list = f.read()\n",
    "f.close()\n",
    "\n",
    "print (Best_k_list)\n",
    "best_k = 7\n"
   ]
  },
  {
   "cell_type": "code",
   "execution_count": 13,
   "metadata": {},
   "outputs": [
    {
     "name": "stdout",
     "output_type": "stream",
     "text": [
      "0 -  predict digit =  9 real value = 9\n",
      "1 -  predict digit =  6 real value = 6\n",
      "2 -  predict digit =  3 real value = 3\n",
      "3 -  predict digit =  0 real value = 6\n",
      "                      ^^^            ^^^\n",
      "4 -  predict digit =  6 real value = 6\n",
      "5 -  predict digit =  0 real value = 0\n",
      "6 -  predict digit =  0 real value = 0\n",
      "7 -  predict digit =  0 real value = 0\n",
      "8 -  predict digit =  6 real value = 6\n",
      "9 -  predict digit =  9 real value = 9\n",
      "10 -  predict digit =  6 real value = 6\n",
      "11 -  predict digit =  2 real value = 2\n",
      "12 -  predict digit =  2 real value = 2\n",
      "13 -  predict digit =  7 real value = 4\n",
      "                      ^^^            ^^^\n",
      "14 -  predict digit =  0 real value = 0\n",
      "15 -  predict digit =  3 real value = 3\n",
      "16 -  predict digit =  1 real value = 1\n",
      "17 -  predict digit =  2 real value = 6\n",
      "                      ^^^            ^^^\n",
      "18 -  predict digit =  9 real value = 9\n",
      "19 -  predict digit =  6 real value = 6\n",
      "20 -  predict digit =  2 real value = 2\n",
      "21 -  predict digit =  2 real value = 2\n",
      "22 -  predict digit =  4 real value = 4\n",
      "23 -  predict digit =  9 real value = 9\n",
      "24 -  predict digit =  6 real value = 6\n",
      "25 -  predict digit =  2 real value = 2\n",
      "26 -  predict digit =  0 real value = 0\n",
      "27 -  predict digit =  5 real value = 3\n",
      "                      ^^^            ^^^\n",
      "28 -  predict digit =  8 real value = 8\n",
      "29 -  predict digit =  3 real value = 3\n",
      "30 -  predict digit =  7 real value = 7\n",
      "31 -  predict digit =  0 real value = 0\n",
      "32 -  predict digit =  5 real value = 5\n",
      "33 -  predict digit =  0 real value = 0\n",
      "34 -  predict digit =  7 real value = 7\n",
      "35 -  predict digit =  9 real value = 9\n",
      "36 -  predict digit =  5 real value = 5\n",
      "37 -  predict digit =  0 real value = 0\n",
      "38 -  predict digit =  0 real value = 0\n",
      "39 -  predict digit =  7 real value = 7\n",
      "40 -  predict digit =  0 real value = 0\n",
      "41 -  predict digit =  8 real value = 8\n",
      "42 -  predict digit =  1 real value = 1\n",
      "43 -  predict digit =  0 real value = 0\n",
      "44 -  predict digit =  7 real value = 7\n",
      "45 -  predict digit =  1 real value = 1\n",
      "46 -  predict digit =  0 real value = 0\n",
      "47 -  predict digit =  9 real value = 4\n",
      "                      ^^^            ^^^\n",
      "48 -  predict digit =  2 real value = 2\n",
      "49 -  predict digit =  0 real value = 0\n",
      "50 -  predict digit =  8 real value = 8\n",
      "51 -  predict digit =  5 real value = 5\n",
      "52 -  predict digit =  1 real value = 1\n",
      "53 -  predict digit =  0 real value = 2\n",
      "                      ^^^            ^^^\n",
      "54 -  predict digit =  0 real value = 0\n",
      "55 -  predict digit =  6 real value = 6\n",
      "56 -  predict digit =  5 real value = 5\n",
      "57 -  predict digit =  9 real value = 9\n",
      "58 -  predict digit =  2 real value = 2\n",
      "59 -  predict digit =  0 real value = 0\n",
      "60 -  predict digit =  9 real value = 9\n",
      "61 -  predict digit =  0 real value = 0\n",
      "62 -  predict digit =  4 real value = 4\n",
      "63 -  predict digit =  2 real value = 2\n",
      "64 -  predict digit =  0 real value = 0\n",
      "65 -  predict digit =  9 real value = 9\n",
      "66 -  predict digit =  1 real value = 1\n",
      "67 -  predict digit =  2 real value = 2\n",
      "68 -  predict digit =  2 real value = 2\n",
      "69 -  predict digit =  1 real value = 1\n",
      "70 -  predict digit =  8 real value = 8\n",
      "71 -  predict digit =  3 real value = 3\n",
      "72 -  predict digit =  7 real value = 7\n",
      "73 -  predict digit =  2 real value = 2\n",
      "74 -  predict digit =  0 real value = 0\n",
      "75 -  predict digit =  9 real value = 9\n",
      "76 -  predict digit =  0 real value = 0\n",
      "77 -  predict digit =  1 real value = 1\n",
      "78 -  predict digit =  2 real value = 2\n",
      "79 -  predict digit =  1 real value = 1\n",
      "80 -  predict digit =  2 real value = 2\n",
      "81 -  predict digit =  0 real value = 0\n",
      "82 -  predict digit =  7 real value = 7\n",
      "83 -  predict digit =  2 real value = 2\n",
      "84 -  predict digit =  0 real value = 0\n",
      "85 -  predict digit =  6 real value = 6\n",
      "86 -  predict digit =  7 real value = 7\n",
      "87 -  predict digit =  3 real value = 8\n",
      "                      ^^^            ^^^\n",
      "88 -  predict digit =  2 real value = 2\n",
      "89 -  predict digit =  0 real value = 0\n",
      "90 -  predict digit =  9 real value = 9\n",
      "91 -  predict digit =  0 real value = 0\n",
      "92 -  predict digit =  4 real value = 4\n",
      "93 -  predict digit =  8 real value = 8\n",
      "94 -  predict digit =  2 real value = 2\n",
      "95 -  predict digit =  0 real value = 0\n",
      "96 -  predict digit =  7 real value = 7\n",
      "97 -  predict digit =  0 real value = 0\n",
      "98 -  predict digit =  0 real value = 0\n",
      "99 -  predict digit =  9 real value = 9\n",
      "Our modle with k =  7\n",
      "Has correct prediction percentage by  89.453125 %\n",
      "[[3, 0], [13, 7], [17, 2], [27, 5], [47, 9], [53, 0], [87, 3], [101, 0], [107, 7], [108, 3], [122, 7], [131, 4], [134, 2], [135, 7], [145, 0], [160, 0], [164, 9], [182, 4], [191, 6], [194, 5], [198, 3], [215, 1], [217, 1], [233, 6], [235, 1], [247, 8], [253, 2]]\n"
     ]
    }
   ],
   "source": [
    "Errors_list =[]\n",
    "k = 7\n",
    "counter = 0 #correct prediction counter\n",
    "for var in range (len(testzip)):\n",
    "    distances = []\n",
    "    for SVD in SVD_List:\n",
    "        distance = find_the_distance(SVD,k,var,testzip)\n",
    "        distances.append(distance)\n",
    "    x = min(v for v in distances)   # here we take the smallest distance \n",
    "    predict_digit = distances.index(x)    # we will take the index of that smallest distance\n",
    "    if var < 100: # for printing the first 100 predictions \n",
    "        print (var,\"-  predict digit = \", predict_digit , \"real value =\",dtest[var])\n",
    "        if predict_digit != dtest[var]:\n",
    "           print (\"                      ^^^            ^^^\")\n",
    "    if predict_digit == dtest[var]:\n",
    "        counter+=1\n",
    "    else:\n",
    "        L = [var,predict_digit]# the first index will be an index of a real digit,\n",
    "                               #second is wrong predicted\n",
    "        Errors_list.append(L)\n",
    "print (\"Our modle with k = \",k)\n",
    "percentage=100* (counter/len(testzip))\n",
    "print (\"Has correct prediction percentage by \",percentage, \"%\")\n",
    "print (Errors_list)"
   ]
  },
  {
   "cell_type": "code",
   "execution_count": 14,
   "metadata": {},
   "outputs": [
    {
     "name": "stdout",
     "output_type": "stream",
     "text": [
      "Our modle with k =  7\n",
      "Has correct prediction percentage by  89.453125 %\n"
     ]
    },
    {
     "data": {
      "text/plain": [
       "27"
      ]
     },
     "execution_count": 14,
     "metadata": {},
     "output_type": "execute_result"
    }
   ],
   "source": [
    "print (\"Our modle with k = \",k)\n",
    "percentage=100* (counter/len(testzip))\n",
    "print (\"Has correct prediction percentage by \",percentage, \"%\")\n",
    "Errors_list2 =Errors_list\n",
    "len (Errors_list)"
   ]
  },
  {
   "cell_type": "code",
   "execution_count": 15,
   "metadata": {},
   "outputs": [
    {
     "data": {
      "image/png": "[encoded data removed]",
      "text/plain": [
       "<Figure size 1152x1152 with 10 Axes>"
      ]
     },
     "metadata": {
      "needs_background": "light"
     },
     "output_type": "display_data"
    }
   ],
   "source": [
    "import matplotlib.pyplot as plt\n",
    "%matplotlib inline\n",
    "import random\n",
    "five = 5\n",
    "plt.rcParams['figure.figsize'] = [16,16]\n",
    "fig,axs = plt.subplots(nrows=5,ncols=2,figsize=(16,16))\n",
    "\n",
    "for i in range (five):\n",
    "    for j in range(2):\n",
    "        x = random.randint(0,len(Errors_list2)-1) # random choice of index\n",
    "        var   = Errors_list2[x][0]\n",
    "        wrong = Errors_list2[x][1]\n",
    "        Errors_list2.pop(x)  # deleted that item \n",
    "        image0 = testzip[:,var]\n",
    "        axs[i,j].imshow(image0.reshape((16,16)),vmin=-0.1,vmax=0.1)\n",
    "        Title = str(wrong)+'!=' +str(dtest[var])\n",
    "        axs[i,j].set_xlabel(Title, fontsize=10)\n",
    "plt.show() "
   ]
  },
  {
   "cell_type": "code",
   "execution_count": 16,
   "metadata": {},
   "outputs": [
    {
     "name": "stdout",
     "output_type": "stream",
     "text": [
      "Our modle with k =  1\n",
      "Has correct prediction percentage by  77.34375 % period = 0.48922133445739746\n",
      "Our modle with k =  2\n",
      "Has correct prediction percentage by  83.984375 % period = 0.44643163681030273\n",
      "Our modle with k =  3\n",
      "Has correct prediction percentage by  85.9375 % period = 0.513568639755249\n",
      "Our modle with k =  4\n",
      "Has correct prediction percentage by  88.671875 % period = 0.49294352531433105\n",
      "Our modle with k =  5\n",
      "Has correct prediction percentage by  87.5 % period = 0.427720308303833\n",
      "Our modle with k =  6\n",
      "Has correct prediction percentage by  87.5 % period = 0.44397425651550293\n",
      "Our modle with k =  7\n",
      "Has correct prediction percentage by  89.453125 % period = 0.45725250244140625\n",
      "Our modle with k =  8\n",
      "Has correct prediction percentage by  89.453125 % period = 0.4398157596588135\n",
      "Our modle with k =  9\n",
      "Has correct prediction percentage by  91.40625 % period = 0.4490950107574463\n",
      "Our modle with k =  10\n",
      "Has correct prediction percentage by  92.1875 % period = 0.452587366104126\n"
     ]
    }
   ],
   "source": [
    "import time\n",
    "Periods = []\n",
    "percentageList =[]\n",
    "for i in range (10):\n",
    "    start = time.time()\n",
    "    k = i+1\n",
    "    counter = 0 #correct prediction counter\n",
    "    for var in range (len(testzip)):\n",
    "        distances = []\n",
    "        for SVD in SVD_List:\n",
    "            distance = find_the_distance(SVD,k,var,testzip)\n",
    "            distances.append(distance)\n",
    "        x = min(v for v in distances)   # here we take the smallest distance \n",
    "        predict_digit = distances.index(x)    # we will take the index of that smallest distance\n",
    "        if predict_digit == dtest[var]:\n",
    "            counter+=1\n",
    "    end = time.time()\n",
    "    period = end - start\n",
    "    Periods.append(period)\n",
    "    print (\"Our modle with k = \",k)\n",
    "    percentage=100* (counter/len(testzip))\n",
    "    percentageList.append(percentage)\n",
    "    print (\"Has correct prediction percentage by \",percentage, \"%\",\"period =\",period)\n"
   ]
  },
  {
   "cell_type": "code",
   "execution_count": 17,
   "metadata": {},
   "outputs": [
    {
     "data": {
      "image/png": "[encoded data removed]",
      "text/plain": [
       "<Figure size 432x288 with 1 Axes>"
      ]
     },
     "metadata": {
      "needs_background": "light"
     },
     "output_type": "display_data"
    },
    {
     "data": {
      "image/png": "[encoded data removed]",
      "text/plain": [
       "<Figure size 432x288 with 1 Axes>"
      ]
     },
     "metadata": {
      "needs_background": "light"
     },
     "output_type": "display_data"
    }
   ],
   "source": [
    "import matplotlib.pyplot as plt\n",
    "%matplotlib inline\n",
    "ks= [1,2,3,4,5,6,7,8,9,10]\n",
    "plt.plot(ks,percentageList)\n",
    "plt.ylabel('Percentage ')\n",
    "plt.xlabel('Ks')\n",
    "plt.show()\n",
    "\n",
    "plt.plot(ks,Periods)\n",
    "plt.ylabel('Time Periods in seconds')\n",
    "plt.xlabel('Ks')\n",
    "plt.show()"
   ]
  },
  {
   "cell_type": "code",
   "execution_count": null,
   "metadata": {},
   "outputs": [],
   "source": []
  },
  {
   "cell_type": "code",
   "execution_count": 14,
   "metadata": {},
   "outputs": [],
   "source": []
  },
  {
   "cell_type": "code",
   "execution_count": null,
   "metadata": {},
   "outputs": [],
   "source": []
  }
 ],
 "metadata": {
  "kernelspec": {
   "display_name": "Python 3",
   "language": "python",
   "name": "python3"
  },
  "language_info": {
   "codemirror_mode": {
    "name": "ipython",
    "version": 3
   },
   "file_extension": ".py",
   "mimetype": "text/x-python",
   "name": "python",
   "nbconvert_exporter": "python",
   "pygments_lexer": "ipython3",
   "version": "3.6.5"
  }
 },
 "nbformat": 4,
 "nbformat_minor": 2
}
